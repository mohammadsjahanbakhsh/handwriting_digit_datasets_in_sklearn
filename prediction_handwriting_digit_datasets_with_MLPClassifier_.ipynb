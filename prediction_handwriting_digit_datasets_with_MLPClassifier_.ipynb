{
  "nbformat": 4,
  "nbformat_minor": 0,
  "metadata": {
    "colab": {
      "private_outputs": true,
      "provenance": []
    },
    "kernelspec": {
      "name": "python3",
      "display_name": "Python 3"
    },
    "language_info": {
      "name": "python"
    }
  },
  "cells": [
    {
      "cell_type": "markdown",
      "source": [
        "We can see that we have 70,000 datapoints with 784 features. The feature values range from 0 to 255 (which we interpret on a gray scale with 0 being white and 255 being black). The target values are the numbers 0-9. Note that the target values are stored as strings and not integers."
      ],
      "metadata": {
        "id": "NEcgn-P7rCLr"
      }
    },
    {
      "cell_type": "code",
      "source": [
        "from sklearn.datasets import fetch_openml\n",
        "import numpy as np\n",
        "from sklearn.neural_network import MLPClassifier\n",
        "from sklearn.model_selection import train_test_split"
      ],
      "metadata": {
        "id": "s8Hfj9i6Tf4J"
      },
      "execution_count": null,
      "outputs": []
    },
    {
      "cell_type": "code",
      "source": [
        "X,y = fetch_openml(\"mnist_784\",version=1,return_X_y = True ,parser='auto')\n",
        "\n",
        "\n"
      ],
      "metadata": {
        "id": "ME-CN7gOlKpU"
      },
      "execution_count": null,
      "outputs": []
    },
    {
      "cell_type": "markdown",
      "source": [
        " Note that the target values are stored as strings and not integers.\n",
        "\n",
        "  we will use a version from Open ML that has 784 pixels (28 x 28).\n",
        "\n",
        "  "
      ],
      "metadata": {
        "id": "yA7jwItomJVe"
      }
    },
    {
      "cell_type": "code",
      "source": [
        "print(X.shape , y.shape)\n",
        "print(\"min:\",X.min().min(),\"max:\",X.max().max())\n"
      ],
      "metadata": {
        "id": "8MMYB02klf60"
      },
      "execution_count": null,
      "outputs": []
    },
    {
      "cell_type": "markdown",
      "source": [
        "for using digit 0-5 following code use"
      ],
      "metadata": {
        "id": "PwzJIsv5mD5-"
      }
    },
    {
      "cell_type": "code",
      "source": [
        "import matplotlib.pyplot as plt\n",
        "print(y[1])\n",
        "plt.matshow(X.iloc[1,:].values.reshape(28,28) , cmap=plt.cm.gray)\n",
        "plt.xticks(())  # remove x tick marks\n",
        "plt.yticks(())  # remove y tick marks\n",
        "plt.show()\n"
      ],
      "metadata": {
        "id": "uVlVF3_4sa1u"
      },
      "execution_count": null,
      "outputs": []
    },
    {
      "cell_type": "code",
      "source": [
        "X5=X[y.astype(int) <= 5]\n",
        "y5=y[y.astype(int) <= 5]\n",
        "X5"
      ],
      "metadata": {
        "id": "b7-sWkePnoun"
      },
      "execution_count": null,
      "outputs": []
    },
    {
      "cell_type": "code",
      "source": [
        "y5"
      ],
      "metadata": {
        "id": "h6KVT2Gtnwzn"
      },
      "execution_count": null,
      "outputs": []
    },
    {
      "cell_type": "code",
      "source": [
        "X_train , X_test , y_train , y_test = train_test_split(X5,y5,random_state=3)\n",
        "\n",
        "\n",
        "mlp=MLPClassifier(\n",
        "    hidden_layer_sizes=(100,50),\n",
        "    max_iter=1000 , alpha=1e-4,\n",
        "    solver=\"adam\",random_state=3\n",
        "\n",
        ")\n",
        "\n",
        "mlp.fit(X_train,y_train)\n",
        "mlp.score(X_test,y_test)"
      ],
      "metadata": {
        "id": "l6l88lvIoI8F"
      },
      "execution_count": null,
      "outputs": []
    },
    {
      "cell_type": "code",
      "source": [
        "from sklearn.metrics import f1_score\n",
        "\n",
        "y_pred = mlp.predict(X_test)\n",
        "\n",
        "f1_score(y_pred , y_test,average=\"macro\")"
      ],
      "metadata": {
        "id": "UFHwx4A3qKZO"
      },
      "execution_count": null,
      "outputs": []
    },
    {
      "cell_type": "code",
      "source": [
        "print(\"Number of layer :\",len(mlp.coefs_))\n",
        "print(mlp.coefs_[0].shape)\n",
        "print(mlp.coefs_[1].shape)\n",
        "print(mlp.coefs_[2].shape)\n",
        "\n"
      ],
      "metadata": {
        "id": "--vYqRfV1ase"
      },
      "execution_count": null,
      "outputs": []
    },
    {
      "cell_type": "code",
      "source": [
        "X_train , X_test , y_train , y_test = train_test_split(X,y,random_state=3)\n",
        "\n",
        "\n",
        "mlp.fit(X_train,y_train)\n",
        "mlp.score(X_test,y_test)"
      ],
      "metadata": {
        "id": "rf7Bh3gwrsFZ"
      },
      "execution_count": null,
      "outputs": []
    },
    {
      "cell_type": "code",
      "source": [
        "from sklearn.metrics import f1_score\n",
        "\n",
        "y_pred = mlp.predict(X_test)\n",
        "\n",
        "f1_score(y_pred , y_test,average=\"macro\")"
      ],
      "metadata": {
        "id": "t3_r2tHMrvFI"
      },
      "execution_count": null,
      "outputs": []
    },
    {
      "cell_type": "code",
      "source": [
        "X_train , X_test , y_train , y_test = train_test_split(X5,y5,random_state=3)\n",
        "\n",
        "\n",
        "mlp=MLPClassifier(\n",
        "    hidden_layer_sizes=(6,),\n",
        "    max_iter=1000 , alpha=1e-4,\n",
        "    solver=\"adam\",random_state=3\n",
        "\n",
        ")\n",
        "\n",
        "mlp.fit(X_train,y_train)\n",
        "mlp.score(X_test,y_test)"
      ],
      "metadata": {
        "id": "0oq-kdTX4Iu0"
      },
      "execution_count": null,
      "outputs": []
    },
    {
      "cell_type": "code",
      "source": [
        "fig , axes = plt.subplots(2 , 3 , figsize = (5,4))\n",
        "\n",
        "for i , ax in enumerate(axes.ravel()):\n",
        "  coef = mlp.coefs_[0][:,i]\n",
        "  ax.matshow(coef.reshape(28,28) , cmap = plt.cm.gray)\n",
        "  ax.set_xticks(())\n",
        "  ax.set_yticks(())\n",
        "  ax.set_title(i )\n",
        "\n",
        "plt.show()"
      ],
      "metadata": {
        "id": "7C8pNY3_4Iu2"
      },
      "execution_count": null,
      "outputs": []
    },
    {
      "cell_type": "markdown",
      "source": [
        "# pixel (8 x 8)\n",
        "The value is on a grayscale where 0 is black and 16 is white."
      ],
      "metadata": {
        "id": "JiPT5NIlzyYJ"
      }
    },
    {
      "cell_type": "code",
      "source": [],
      "metadata": {
        "id": "UO8XwM46z2O3"
      },
      "execution_count": null,
      "outputs": []
    },
    {
      "cell_type": "code",
      "source": [
        "from sklearn.datasets import load_digits\n",
        "X,y = load_digits(n_class=5 , return_X_y=True )\n",
        "\n",
        "print(X.shape , y.shape)\n",
        "\n",
        "print(X.min().min() , X.min().min())\n"
      ],
      "metadata": {
        "id": "qePRu0Qbqvfb"
      },
      "execution_count": null,
      "outputs": []
    },
    {
      "cell_type": "code",
      "source": [
        "print(y[0])\n",
        "X[0].reshape(8,8)"
      ],
      "metadata": {
        "id": "-2vgPpNCsGlo"
      },
      "execution_count": null,
      "outputs": []
    },
    {
      "cell_type": "code",
      "source": [
        "plt.matshow(X[0].reshape(8,8),cmap = plt.cm.gray)\n",
        "print(y[0])\n",
        "plt.xticks(())\n",
        "plt.yticks(())\n",
        "plt.show()"
      ],
      "metadata": {
        "id": "qoEeHffgz6MH"
      },
      "execution_count": null,
      "outputs": []
    },
    {
      "cell_type": "code",
      "source": [
        "X_train , X_test , y_train , y_test = train_test_split(X,y,random_state=3)\n",
        "\n",
        "\n",
        "mlp.fit(X_train,y_train)\n",
        "mlp.score(X_test,y_test)"
      ],
      "metadata": {
        "id": "C8ohVfGZsT6m"
      },
      "execution_count": null,
      "outputs": []
    },
    {
      "cell_type": "code",
      "source": [
        "from sklearn.metrics import f1_score\n",
        "\n",
        "y_pred = mlp.predict(X_test)\n",
        "\n",
        "f1_score(y_pred , y_test,average=\"macro\")"
      ],
      "metadata": {
        "id": "g5b2742dslsX"
      },
      "execution_count": null,
      "outputs": []
    },
    {
      "cell_type": "markdown",
      "source": [
        "منبع \n",
        "sololearn.com"
      ],
      "metadata": {
        "id": "W5e8NoYn1HAm"
      }
    },
    {
      "cell_type": "code",
      "source": [
        "X_train , X_test , y_train , y_test = train_test_split(X,y,random_state=3)\n",
        "\n",
        "\n",
        "mlp=MLPClassifier(\n",
        "    hidden_layer_sizes=(6,),\n",
        "    max_iter=1000 , alpha=1e-4,\n",
        "    solver=\"adam\",random_state=3\n",
        "\n",
        ")\n",
        "\n",
        "mlp.fit(X_train,y_train)\n",
        "mlp.score(X_test,y_test)"
      ],
      "metadata": {
        "id": "utugJ8Ql1J5V"
      },
      "execution_count": null,
      "outputs": []
    },
    {
      "cell_type": "code",
      "source": [
        "fig , axes = plt.subplots(2 , 3 , figsize = (4,3))\n",
        "\n",
        "for i , ax in enumerate(axes.ravel()):\n",
        "  coef = mlp.coefs_[0][:,i]\n",
        "  ax.matshow(coef.reshape(8,8) , cmap = plt.cm.gray)\n",
        "  ax.set_xticks(())\n",
        "  ax.set_yticks(())\n",
        "  ax.set_title(i )\n",
        "\n",
        "plt.show()"
      ],
      "metadata": {
        "id": "ryVhtEnU2bqF"
      },
      "execution_count": null,
      "outputs": []
    }
  ]
}